{
 "cells": [
  {
   "cell_type": "markdown",
   "id": "47737ee6-034d-4d9e-bab9-3d4cce959eaf",
   "metadata": {},
   "source": [
    "# Data Science Tools and Ecosystem"
   ]
  },
  {
   "cell_type": "markdown",
   "id": "3f5ad4cf-689b-443d-afc6-4216fdf54c39",
   "metadata": {},
   "source": [
    "In this notebook, Data Science Tools and Ecosystem are summarized"
   ]
  },
  {
   "cell_type": "markdown",
   "id": "c3f8f58c-a7b4-4188-a664-db9bf21db126",
   "metadata": {},
   "source": [
    "Objectives:\n",
    "- List of popular languages for Data Science \n",
    "- List of commonly used libraries in Data Science\n",
    "- Data Science Tools \n",
    "- Arithmetic Expressions "
   ]
  },
  {
   "cell_type": "markdown",
   "id": "57f56250-aa9e-4399-8c52-0d86ee053157",
   "metadata": {},
   "source": [
    "Some of the popular languages that Data Scientists use are: \n",
    "1. Python\n",
    "2. R\n",
    "3. SQL\n",
    "4. Java\n",
    "5. C++"
   ]
  },
  {
   "cell_type": "markdown",
   "id": "51ba15e6-219e-4329-8f56-6b1885a41b17",
   "metadata": {},
   "source": [
    "Some of the commonly used libraries used by Data Scientists are:\n",
    "1. Pandas\n",
    "2. Matplotlib\n",
    "3. Scikit-learn\n",
    "4. Tensorflow "
   ]
  },
  {
   "cell_type": "markdown",
   "id": "a21bb352-56c5-4a20-9c8f-f2fb7763f4ca",
   "metadata": {},
   "source": [
    "|Data Science Tools|\n",
    "|---------|\n",
    "| Jupyter |\n",
    "| Apache Zepplin |\n",
    "| RStudio |\n",
    "| Sypder |"
   ]
  },
  {
   "cell_type": "markdown",
   "id": "772c85e1-d882-4f15-b1af-e044a4d08aaa",
   "metadata": {},
   "source": [
    "Below are a few examples of evaluating arithmetic expressions on Python"
   ]
  },
  {
   "cell_type": "code",
   "execution_count": 6,
   "id": "61ad5015-987f-4584-a4b2-7ae3bc9918cb",
   "metadata": {
    "tags": []
   },
   "outputs": [
    {
     "data": {
      "text/plain": [
       "17"
      ]
     },
     "execution_count": 6,
     "metadata": {},
     "output_type": "execute_result"
    }
   ],
   "source": [
    "# This is a simple arithmetic expression to multiply then add intergers\n",
    "(3*4)+5"
   ]
  },
  {
   "cell_type": "code",
   "execution_count": 7,
   "id": "36908688-3e45-4175-9449-f528df458c12",
   "metadata": {
    "tags": []
   },
   "outputs": [
    {
     "data": {
      "text/plain": [
       "3.3333333333333335"
      ]
     },
     "execution_count": 7,
     "metadata": {},
     "output_type": "execute_result"
    }
   ],
   "source": [
    "# This will convert 200 minutres to hours by dividing by 60\n",
    "200/60"
   ]
  },
  {
   "cell_type": "markdown",
   "id": "46fd22bf-e799-4de1-8a56-fbbc7896c444",
   "metadata": {},
   "source": [
    "## Author\n",
    "Ruth Picazo Najera"
   ]
  }
 ],
 "metadata": {
  "kernelspec": {
   "display_name": "Python",
   "language": "python",
   "name": "conda-env-python-py"
  },
  "language_info": {
   "codemirror_mode": {
    "name": "ipython",
    "version": 3
   },
   "file_extension": ".py",
   "mimetype": "text/x-python",
   "name": "python",
   "nbconvert_exporter": "python",
   "pygments_lexer": "ipython3",
   "version": "3.7.12"
  }
 },
 "nbformat": 4,
 "nbformat_minor": 5
}
